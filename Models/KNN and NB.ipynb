{
 "cells": [
  {
   "cell_type": "markdown",
   "metadata": {},
   "source": [
    "# KNN CLASSIFIER"
   ]
  },
  {
   "cell_type": "markdown",
   "metadata": {},
   "source": [
    "- Table of contents\n",
    "    - Introduction to k-nearest neighbor classifier\n",
    "    - K- nearest neighbor classification step by step procedure.\n",
    "        - Knn applications<br>\n",
    "        - K-nearest neighbor (knn) algorithm pseudocode<br>\n",
    "        - K-nearest neighbor algorithm example<br>\n",
    "            - Parameters <br>\n",
    "    - How to choose the k value<br>\n",
    "    - Condensed nearest neighbor data reduction rule<br>\n",
    "    - K-Nearest Neighbor case study<br>\n",
    "    - Advantages of k-nearest neighbors algorithm<br>\n",
    "    - Limitation to k-nearest neighbors algorithm<br>"
   ]
  },
  {
   "cell_type": "markdown",
   "metadata": {},
   "source": [
    "## Introduction to k-nearest neighbor classifier"
   ]
  },
  {
   "cell_type": "markdown",
   "metadata": {},
   "source": [
    "K-Nearest Neighbors is one of the most basic yet essential classification algorithms in Machine Learning. It belongs to the supervised learning domain and finds intense application in pattern recognition, data mining and intrusion detection.\n",
    "\n",
    "It is widely disposable in real-life scenarios since it is non-parametric, meaning, it does not make any underlying assumptions about the distribution of data (as opposed to other algorithms such as GMM, which assume a Gaussian distribution of the given data).\n",
    "\n",
    "The simple version of the K-nearest neighbor classifier algorithms is to <b>predict the target label by finding the nearest neighbor class</b>. The closest class will be identified using the distance measures like Euclidean distance.\n",
    "\n",
    "<b>KNN is a non-parametric, lazy learning algorithm.</b>\n",
    "\n",
    "When we say a technique is <b>non-parametric , it means that it does not make any assumptions on the underlying data distribution</b>. In other words, the model structure is determined from the data. If you think about it, it’s pretty useful, because in the “real world”, most of the data does not obey the typical theoretical assumptions made (as in linear regression models, for example). \n",
    "\n",
    "KNN is also a <b>lazy algorithm</b> (as opposed to an eager algorithm). What this means is that it does not use the training data points to do any generalization. <b>In other words, there is no explicit training phase or it is very minimal.</b> This also means that the training phase is pretty fast . \n",
    "\n",
    "<i>Lack of generalization means that KNN keeps all the training data. To be more exact, all (or most) the training data is needed during the testing phase.</i>\n",
    "\n",
    "KNN Algorithm is based on <b>feature similarity: How closely out-of-sample features resemble our training set determines how we classify a given data point.</b>\n",
    "\n",
    "KNN can be used for classification — the output is a class membership (predicts a class — a discrete value). <b>An object is classified by a majority vote of its neighbors, with the object being assigned to the class most common among its k nearest neighbors. It can also be used for regression — output is the value for the object (predicts continuous values). This value is the average (or median) of the values of its k nearest neighbors.</b>"
   ]
  },
  {
   "cell_type": "markdown",
   "metadata": {},
   "source": [
    "## K- nearest neighbor classification step by step procedure."
   ]
  },
  {
   "cell_type": "code",
   "execution_count": null,
   "metadata": {},
   "outputs": [],
   "source": []
  },
  {
   "cell_type": "code",
   "execution_count": null,
   "metadata": {},
   "outputs": [],
   "source": []
  }
 ],
 "metadata": {
  "kernelspec": {
   "display_name": "Python 3",
   "language": "python",
   "name": "python3"
  },
  "language_info": {
   "codemirror_mode": {
    "name": "ipython",
    "version": 3
   },
   "file_extension": ".py",
   "mimetype": "text/x-python",
   "name": "python",
   "nbconvert_exporter": "python",
   "pygments_lexer": "ipython3",
   "version": "3.6.5"
  }
 },
 "nbformat": 4,
 "nbformat_minor": 2
}
